{
 "cells": [
  {
   "cell_type": "markdown",
   "source": [
    "# Bond Market Model V1"
   ],
   "metadata": {
    "collapsed": false
   }
  },
  {
   "cell_type": "code",
   "execution_count": 2,
   "outputs": [],
   "source": [
    "#Imports\n",
    "import numpy as np\n",
    "import matplotlib.pyplot as plt\n",
    "import scipy.stats as sts\n",
    "import uuid\n",
    "import collections\n",
    "from matplotlib.animation import FuncAnimation\n",
    "from IPython.display import HTML\n",
    "import seaborn as sns\n",
    "from tqdm import tqdm\n",
    "from collections import Counter"
   ],
   "metadata": {
    "collapsed": false
   }
  },
  {
   "cell_type": "markdown",
   "source": [
    "## Bond Market Model"
   ],
   "metadata": {
    "collapsed": false
   }
  },
  {
   "cell_type": "markdown",
   "source": [
    "For this particular version, I will be focusing mostly on trying to create a strong overall structure that I can continue to build upon in future iterations. The goal will be to come up with a structure that relies on a basic assumption of market functions with additional complications added as necessary to improve the realism of the simulation. The general structure of the simulation relies on the following objects:\n",
    "- Bonds: The bond is the base object. Each bond has the attribute of demand. Demand simply concerns how often orders are placed for the particular bond acting as a proxy for liquidity. A set of bonds with different amounts outstanding will be placed on the market each with each security given it's own identifier to be traded.\n",
    "- Trader: Each trader will have a specific portfolio of bonds initially allocated. At each iteration the traders will liquidate a pre-specified percentage of their portfolio across multiple bond types. They will also need to recover this percentage of bonds by placing orders for a different set of bonds with the same demand classification.\n",
    "- Market: This is the OTC market where sellers will place the bonds in their portfolios to sell and buyers will come to buy when they place a buy order for that exact bond."
   ],
   "metadata": {
    "collapsed": false
   }
  },
  {
   "cell_type": "markdown",
   "source": [
    "### Work goals for this iteration\n",
    "- The main goal this time around is to create a structural skeleton from which the simulation can be built appropriately. Since this forms a baseline for all the future work on the capstone, the goal will be to create an adequetly modular and expandable structure that effectively reduces the market to individual players. The bulk of the work in this assignment was placed on defining the reduction into these three classes and toying with allocating methods in each...I'm a slow coder."
   ],
   "metadata": {
    "collapsed": false
   }
  },
  {
   "cell_type": "code",
   "execution_count": 24,
   "outputs": [],
   "source": [
    "class bonds(object):\n",
    "    '''\n",
    "    Class to define bond obejcts. This is responsible for the creation of a specific bond ID along with the the various other attributes of the bond.\n",
    "    --------\n",
    "    inputs: num_bonds: Number of bonds to be issued in each tranche.\n",
    "    -------\n",
    "    outputs: bond: bond object with a unique ID and demand rating. The demand of bonds will be thought of as exponential rating from 0 to 1 with most bonds being low demand\n",
    "    '''\n",
    "\n",
    "    def __init__(self, num_bonds, *args):\n",
    "        self.num_bonds = num_bonds\n",
    "\n",
    "    def issue(self, num_bonds, demand = sts.expon.rvs(1)):\n",
    "        '''\n",
    "        Method to issue the number of bonds called for in a single tranche with a unique id.\n",
    "        This will be called multiple times to create a set of bonds to simualte a market.\n",
    "        ------\n",
    "        inputs:\n",
    "            num_bonds: same as above, # of bonds in the tranche\n",
    "            demand: default is an exponential, but can be changed\n",
    "        outputs:\n",
    "            tranche of bonds with a specified demand level and unique id\n",
    "        '''\n",
    "\n",
    "        return\n",
    "\n",
    "\n",
    "class trader(object):\n",
    "    '''\n",
    "    Class for the trader object. This class illustrates the creation of a portfolio of bonds assigned to each trader and the frequency of trading that they undertake (turnover of their portfolio).\n",
    "\n",
    "    '''\n",
    "\n",
    "    def __init__(self, liquidity_level, size):\n",
    "        self.id = uuid.uuid4()\n",
    "        self.liquidity_level = liquidity_level\n",
    "        self.size = size\n",
    "        self.num_traders = 1\n",
    "\n",
    "    def create_portfolio(self, liquidity_level, size):\n",
    "        '''\n",
    "        :param liquidity_level: How much of the portfolio is comprised of liquid bonds\n",
    "        :param size: How many bonds each portfolio holds.\n",
    "        :return:\n",
    "        '''\n",
    "        return\n",
    "\n",
    "    def create_traders(self, num_traders):\n",
    "        '''\n",
    "        :param num_traders: Number of traders\n",
    "        :return: A set of traders with unique IDs and allocated portfolios\n",
    "        '''\n",
    "        return traders\n",
    "\n",
    "    def trade(self):\n",
    "        '''\n",
    "        Function to designate a trader to trade a subset of their portfolio. Uses hierarchical decisions to decide what to buy and sell.\n",
    "        :return:\n",
    "            bond_orders: The bonds and number of securities the trader will order\n",
    "            bond_sales: The bonds and number of securities to sell\n",
    "        '''\n",
    "\n",
    "\n",
    "\n",
    "class bond_market:\n",
    "    '''\n",
    "    Class for the over the counter bond market. This is the class that ties together the simulation to create an analogue to the OTC bond market.\n",
    "    inputs:\n",
    "        traders: Number of players in the market\n",
    "        bonds: Number of bonds in the market\n",
    "    outputs:\n",
    "        marketsim: Object containing the simulation of the bond market.\n",
    "    '''\n",
    "\n",
    "    def __init__(self, num_bonds, num_traders):\n",
    "        self.num_bonds = num_bonds\n",
    "        self.num_traders = num_traders\n",
    "\n",
    "    def create_market(self, num_traders, num_bonds):\n",
    "        '''\n",
    "        Starts by creating a market of issued bonds as a pandas data frame. Then it allocates a subset of the bonds to issuers and traders.\n",
    "        :param num_traders: Number of traders on the market\n",
    "        :param num_bonds: Number of bonds on the market\n",
    "        :return market: Creates a market object which is a data frame\n",
    "        '''\n",
    "        return market\n",
    "\n",
    "    def collect_data(self):\n",
    "        '''\n",
    "        Collects the relevant market data at each iteration. Broken out to simplify the simulation\n",
    "        :return:\n",
    "        '''\n",
    "        return market_data\n",
    "\n",
    "    def run_simulation(self, market, timesteps):\n",
    "        '''\n",
    "        Runs the market simulation over time and collects data on the bonds traded.\n",
    "        :param market:\n",
    "        :param timesteps:\n",
    "        :return:\n",
    "        '''\n",
    "        return marketsim\n",
    "\n",
    "    def plot_data(self, market_data):\n",
    "        return plots\n",
    "\n",
    "\n"
   ],
   "metadata": {
    "collapsed": false
   }
  },
  {
   "cell_type": "code",
   "execution_count": 23,
   "outputs": [
    {
     "data": {
      "text/plain": "array([ 0,  2, 11, 13,  1,  1,  3, 14,  4,  9, 19,  5,  5,  6,  7, 16, 29,\n       13,  7,  6,  6,  6, 12,  5,  9, 22,  0,  3, 13,  5, 23, 12, 18,  9,\n        1, 27,  7,  3, 23, 14,  6,  1,  0,  2,  1, 15, 12,  8, 15,  5, 13,\n        8,  0,  1, 42,  9,  3,  0, 16, 21,  4,  4, 11, 20, 10,  1,  0,  4,\n        8, 18,  8,  4,  4, 22,  5,  8, 17,  8,  9,  8,  3,  1, 33, 14,  3,\n        3,  2, 13,  0,  5, 11,  1,  3,  0,  1,  0,  3, 12,  1,  6])"
     },
     "execution_count": 23,
     "metadata": {},
     "output_type": "execute_result"
    }
   ],
   "source": [
    "sts.expon.rvs(500, 200)\n",
    "\n",
    "sts.planck.rvs(0.1, size=100)"
   ],
   "metadata": {
    "collapsed": false
   }
  },
  {
   "cell_type": "code",
   "execution_count": 5,
   "outputs": [],
   "source": [
    "class predator_prey_sim:\n",
    "    '''\n",
    "    Class for simulation of the predator prey model.\n",
    "    Starts by creating a 35x35 grid with each value a predator or prey based on initial probability of 0.2\n",
    "    -----------\n",
    "    inputs:\n",
    "        updates: int: Number of update cycles to run\n",
    "        prey_birth_rate: float: birth rate for adjacent cells\n",
    "        prey_death_rate: float: running random death rate for prey\n",
    "        predator_birth_rate: float: birth rate for predators after consuming prey\n",
    "        predator_death_rate: float: random death rate of predators\n",
    "    -----------\n",
    "    outputs:\n",
    "        sim: Object containing the simulation data with the plots for each timestep\n",
    "    '''\n",
    "\n",
    "    def __init__(self, n = 35, prey_birth_rate = 1, prey_death_rate = 0.1, predator_birth_rate = 0.2, predator_death_rate = 0.1):\n",
    "        self.n = n\n",
    "        self.prey_birth_rate = prey_birth_rate\n",
    "        self.predator_birth_rate = predator_birth_rate\n",
    "        self.prey_death_rate = prey_death_rate\n",
    "        self.predator_death_rate = predator_death_rate\n",
    "\n",
    "        #setting step counter\n",
    "        self.step_counter = 0\n",
    "\n",
    "    def initialize(self):\n",
    "        '''\n",
    "        Initializes empty array with randomization conditions.\n",
    "        :return:\n",
    "        '''\n",
    "        #setting up empty grid\n",
    "        self.config = np.zeros([self.n, self.n])\n",
    "\n",
    "        #initializing grid\n",
    "        for x in range(self.n):\n",
    "            for y in range(self.n):\n",
    "                #setting 0 as empty +1 as predator and -1 as prey\n",
    "                rand = np.random.random()\n",
    "                if rand < 0.2: self.config[x,y] = 1\n",
    "                if 0.2 < rand < 0.4: self.config[x,y] = -1\n",
    "\n",
    "        self.nextconfig = np.zeros([self.n, self.n])\n",
    "        self.figure, self.axes = plt.subplots()\n",
    "        plt.close(self.figure)\n",
    "\n",
    "    def update_params(self, prey_birth_rate = 1, prey_death_rate = 0.1, predator_birth_rate = 0.2, predator_death_rate = 0.1):\n",
    "        '''\n",
    "        Method to update paramaters while the situation is running\n",
    "        '''\n",
    "        self.prey_birth_rate = prey_birth_rate\n",
    "        self.predator_birth_rate = predator_birth_rate\n",
    "        self.prey_death_rate = prey_death_rate\n",
    "        self.predator_death_rate = predator_death_rate\n",
    "\n",
    "    def observe(self):\n",
    "        '''\n",
    "        Returns the plot of the array\n",
    "        :return: observation plot\n",
    "        '''\n",
    "        plot = self.axes.imshow(self.config, vmin = -1, vmax = 1, cmap = 'inferno')\n",
    "\n",
    "        return plot\n",
    "\n",
    "    def get_neighborhood(self, x, y):\n",
    "        '''\n",
    "        Method to return list of indices for teh neighborhood with rolled boundaries\n",
    "        :param x: x- coordinate\n",
    "        :param y:\n",
    "        :return: set of neighborhood cells\n",
    "        '''\n",
    "\n",
    "        neighborhood = []\n",
    "\n",
    "        for dx in range(-1, 2):\n",
    "            for dy in range(-1, 2):\n",
    "                index = [(x + dx)%self.n, (y + dy)%self.n]\n",
    "                if index == [x,y]: pass\n",
    "                else:\n",
    "                    neighborhood.append([(x + dx)%self.n, (y + dy)%self.n])\n",
    "\n",
    "        return neighborhood\n",
    "\n",
    "    def get_data(self):\n",
    "        '''\n",
    "        outputs: returns the total predator and prey figures for the config in the form [prey, empty, predator]\n",
    "        '''\n",
    "\n",
    "        return np.unique(self.config, return_counts = True)[1]\n",
    "\n",
    "    def update(self):\n",
    "        '''\n",
    "        Method to update the simulation based on the rules for the Moore Neighborhood. Works by checking the value of each cell and then taking actions on the surrounding cell based on the current state.\n",
    "        '''\n",
    "\n",
    "        for x in range(self.n):\n",
    "            for y in range(self.n):\n",
    "\n",
    "                #getting neighborhood using neighborhood method\n",
    "                neighborhood = self.get_neighborhood(x,y)\n",
    "\n",
    "                #if cell is a predator, kept them seperate for ease of reading\n",
    "                if self.config[x,y] == 1:\n",
    "\n",
    "                    #running a quick check on prey count\n",
    "                    prey = 0\n",
    "                    for index in neighborhood:\n",
    "                        if self.config[index[0], index[1]] == -1: prey+=1\n",
    "\n",
    "                    #if too few prey, the predator dies, and we go to the next cell\n",
    "                    if prey <= 2:\n",
    "                        self.config[x,y] = 0\n",
    "                        continue\n",
    "\n",
    "                    #running through all cells in neighborhood\n",
    "                    for index in neighborhood:\n",
    "                        dx,dy = index[0], index[1]\n",
    "                        #if the cell is prey\n",
    "                        if self.config[dx, dy] == -1:\n",
    "                            #predator gives birth by birth rate\n",
    "                            if np.random.random() < self.predator_birth_rate:\n",
    "                                self.config[dx,dy] = 1\n",
    "                            else:\n",
    "                                self.config[dx,dy] = 0\n",
    "\n",
    "                    #predator dies randomly\n",
    "                    if np.random.random() < self.predator_death_rate:\n",
    "                        self.config[x,y] = 0\n",
    "\n",
    "                #setting conditions if the cell is prey\n",
    "                if self.config[x,y] == -1:\n",
    "                    for index in neighborhood:\n",
    "                        dx, dy = index[0], index[1]\n",
    "                        #prey reproduces\n",
    "                        if self.config[dx, dy] == 0:\n",
    "                            if np.random.random() < self.prey_birth_rate:\n",
    "                                self.config[dx,dy] = -1\n",
    "                    if np.random.random() < self.prey_death_rate:\n",
    "                        self.config[x,y] = 0\n",
    "\n",
    "        self.step_counter += 1\n",
    "        self.nextconfig = self.config\n"
   ],
   "metadata": {
    "collapsed": false
   }
  },
  {
   "cell_type": "code",
   "execution_count": 6,
   "outputs": [
    {
     "data": {
      "text/plain": "<matplotlib.image.AxesImage at 0x7fbf5884c850>"
     },
     "execution_count": 6,
     "metadata": {},
     "output_type": "execute_result"
    }
   ],
   "source": [
    "sim = predator_prey_sim(n = 35, prey_birth_rate = 1, prey_death_rate = 0.1, predator_birth_rate = 0.2, predator_death_rate = 0.1)\n",
    "sim.initialize()\n",
    "sim.observe()"
   ],
   "metadata": {
    "collapsed": false
   }
  }
 ],
 "metadata": {
  "kernelspec": {
   "display_name": "Python 3",
   "language": "python",
   "name": "python3"
  },
  "language_info": {
   "codemirror_mode": {
    "name": "ipython",
    "version": 2
   },
   "file_extension": ".py",
   "mimetype": "text/x-python",
   "name": "python",
   "nbconvert_exporter": "python",
   "pygments_lexer": "ipython2",
   "version": "2.7.6"
  }
 },
 "nbformat": 4,
 "nbformat_minor": 0
}
